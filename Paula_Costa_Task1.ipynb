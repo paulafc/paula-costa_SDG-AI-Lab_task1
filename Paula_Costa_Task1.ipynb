{
 "cells": [
  {
   "cell_type": "markdown",
   "id": "9af2319c",
   "metadata": {},
   "source": [
    "# Preparing inputs and variables"
   ]
  },
  {
   "cell_type": "markdown",
   "id": "1a1cf82d",
   "metadata": {},
   "source": [
    "## Import and input/output"
   ]
  },
  {
   "cell_type": "code",
   "execution_count": null,
   "id": "1624a8c4",
   "metadata": {},
   "outputs": [],
   "source": [
    "#imports\n",
    "from osgeo import gdal\n",
    "import os\n",
    "import glob\n",
    "import arcpy\n",
    "from arcpy import env\n",
    "from arcpy.sa import *"
   ]
  },
  {
   "cell_type": "markdown",
   "id": "3af8d54a",
   "metadata": {},
   "source": [
    "## Folder paths"
   ]
  },
  {
   "cell_type": "code",
   "execution_count": null,
   "id": "9f273b89",
   "metadata": {},
   "outputs": [],
   "source": [
    "# Folder path\n",
    "folder_path = os.path.dirname(os.path.abspath(\"__file__\"))\n",
    "\n",
    "#import dir\n",
    "iDirname = r\"{0}\\import\".format(folder_path)\n",
    "#export dir\n",
    "eDirname = r\"{0}\\export\".format(folder_path)\n",
    "\n",
    "print(folder_path,iDirname,eDirname,sep='\\n')"
   ]
  },
  {
   "cell_type": "markdown",
   "id": "91054581",
   "metadata": {},
   "source": [
    "## Variables"
   ]
  },
  {
   "cell_type": "code",
   "execution_count": null,
   "id": "8ccfa844",
   "metadata": {},
   "outputs": [],
   "source": [
    "raster_year = \"2021\"\n",
    "raster_month = \"09\"\n",
    "raster_day = \"10\"\n",
    "raster_date = \"compbands_20210910\"\n",
    "compbands_tif = \"compbands_20210910.tif\"\n",
    "\n",
    "#--------#\n",
    "#raster_year = \"2021\"\n",
    "#raster_month = \"09\"\n",
    "#raster_day = \"30\"\n",
    "#raster_date = \"compbands_20210930\"\n",
    "#compbands_tif = \"compbands_20210930.tif\"\n",
    "\n",
    "#-------#\n",
    "#raster band spatial resolution\n",
    "R10m_res = \"R10m\"\n",
    "R20m_res = \"R20m\""
   ]
  },
  {
   "cell_type": "code",
   "execution_count": null,
   "id": "2d60d2fc",
   "metadata": {},
   "outputs": [],
   "source": [
    "# Allow reprojection\n",
    "# change to variable to EPSG code wanted export reprojection tif.\n",
    "EPSG_projection = \"none\""
   ]
  },
  {
   "cell_type": "code",
   "execution_count": null,
   "id": "bf15b19b",
   "metadata": {},
   "outputs": [],
   "source": [
    "# Allow clipping\n",
    "# set TRUE or FALSE for clipping\n",
    "clip_allow = \"TRUE\"\n",
    "clip_json = \"La_palma_bounds.geojson\"\n",
    "clip_shp = \"La_palma_bounds.shp\""
   ]
  },
  {
   "cell_type": "code",
   "execution_count": null,
   "id": "2ae97cb3",
   "metadata": {},
   "outputs": [],
   "source": [
    "# Allow normalization\n",
    "# set TRUE or FALSE for normalization\n",
    "sr_allow = \"FALSE\"\n",
    "sr_input =eDirname + \"\\\\\" +compbands_tif\n",
    "sr_output = eDirname + \"\\\\\" +raster_date+\"_sr.tif\""
   ]
  },
  {
   "cell_type": "code",
   "execution_count": null,
   "id": "50d48432",
   "metadata": {},
   "outputs": [],
   "source": [
    "# Allow resampling\n",
    "# set TRUE or FALSE for resampling\n",
    "resampling_allow = \"FALSE\"\n",
    "resampling_input = compbands_tif\n",
    "resampling_output = \"resamp_\"+raster_date\n",
    "resampling_pixel_size = \"10\"\n",
    "resampling_calc = \"NEAREST\""
   ]
  },
  {
   "cell_type": "markdown",
   "id": "4054394c",
   "metadata": {},
   "source": [
    "# Functions"
   ]
  },
  {
   "cell_type": "code",
   "execution_count": null,
   "id": "f6c3fcb7",
   "metadata": {},
   "outputs": [],
   "source": [
    "# Reprojection function\n",
    "def raster_reprojection(raster_input, raster_output, EPSG_projection):\n",
    "    input_raster = arcpy.Raster(raster_input)\n",
    "\n",
    "    # reproject the input raster to WGS 1984 UTM Zone 11N \n",
    "    reprojected_raster = arcpy.ia.Reproject(input_raster, {\"wkid\" : EPSG_projection}) # 32628 WGS 84 / UTM zone 28N\n",
    "\n",
    "    # verify the new coordinate system\n",
    "    prj = print(arcpy.Describe(reprojected_raster).spatialReference.name)\n",
    "\n",
    "    # save the output\n",
    "    reprojected_raster.save(raster_output)\n",
    "    print(\"reprojection finished\")\n",
    "\n",
    "def raster_clip(inRaster,inMaskData,extraction_area, out_feature_class):\n",
    "    # Execute ExtractByMask\n",
    "    outExtractByMask = arcpy.sa.ExtractByMask(inRaster, inMaskData, extraction_area)\n",
    "    # Save the output \n",
    "    outExtractByMask.save(out_feature_class)\n",
    "    print(\"clip finished\")\n",
    "    \n",
    "# NORMALIZE to surface reflectance values\n",
    "# Multiplying the DN by 10000 on sentinel-2 images, convert the values to Surface reflectance.\n",
    "# With surface reflectance, further remote sensing analysis can be done: land-use classification, spectrun signatures, etc.\n",
    "def surface_reflectance(inRaster, outRaster):\n",
    "    outTimes = Raster(inRaster) * 10000\n",
    "    outTimes.save(outRaster)\n",
    "    print(\"Normalization is TRUE\")"
   ]
  },
  {
   "cell_type": "markdown",
   "id": "22bbcbe6",
   "metadata": {},
   "source": [
    "# Sentinel-2"
   ]
  },
  {
   "cell_type": "code",
   "execution_count": null,
   "id": "ca1f2aa1",
   "metadata": {},
   "outputs": [],
   "source": [
    "# images bands folder path\n",
    "path_raster_bands_10m = glob.glob(\"{0}\\*{1}{2}{3}*.SAFE\\GRANULE\\L2A_*\\IMG_DATA\\{4}\\*.jp2*\".format(iDirname, raster_year,\n",
    "                                                                               raster_month, raster_day, R10m_res))\n",
    "\n",
    "path_raster_bands_20m = glob.glob(\"{0}\\*{1}{2}{3}*.SAFE\\GRANULE\\L2A_*\\IMG_DATA\\{4}\\*.jp2*\".format(iDirname, raster_year,\n",
    "                                                                               raster_month, raster_day, R20m_res))"
   ]
  },
  {
   "cell_type": "markdown",
   "id": "bdd54422",
   "metadata": {},
   "source": [
    "### Select bands"
   ]
  },
  {
   "cell_type": "code",
   "execution_count": null,
   "id": "2094a8d8",
   "metadata": {},
   "outputs": [],
   "source": [
    "#Sentinel bands folder paths\n",
    "b2_10m = next((s for s in path_raster_bands_10m if \"_B02_\" in s), None)\n",
    "b3_10m = next((s for s in path_raster_bands_10m if \"_B03_\" in s), None)\n",
    "b4_10m = next((s for s in path_raster_bands_10m if \"_B04_\" in s), None)\n",
    "b8_10m = next((s for s in path_raster_bands_10m if \"_B08_\" in s), None)\n",
    "b11_20m = next((s for s in path_raster_bands_20m if \"_B11_\" in s), None)\n",
    "\n",
    "print(b2_10m)"
   ]
  },
  {
   "cell_type": "markdown",
   "id": "8eef2ed0",
   "metadata": {},
   "source": [
    "# Set ArcGIS enviroment"
   ]
  },
  {
   "cell_type": "code",
   "execution_count": null,
   "id": "79819fec",
   "metadata": {},
   "outputs": [],
   "source": [
    "# SET ARCGIS ENVIRONMENT\n",
    "arcpy.env.workspace = eDirname\n",
    "# Output fields are unqualified, so the field name will not contain the origin table\n",
    "arcpy.env.qualifiedFieldNames = False\n",
    "arcpy.env.scratchWorkspace = eDirname\n",
    "#Allow for overwriting\n",
    "arcpy.env.overwriteOutput = True"
   ]
  },
  {
   "cell_type": "markdown",
   "id": "a7403816",
   "metadata": {},
   "source": [
    "## Resampling function\n",
    "Note that the following function \"compose multi band raster\", automatically resample the pixel size according to the first image input.\n",
    "For this reason, this function is not needed"
   ]
  },
  {
   "cell_type": "code",
   "execution_count": null,
   "id": "23df661a",
   "metadata": {},
   "outputs": [],
   "source": [
    "# Resample function\n",
    "if resampling_allow == \"TRUE\":\n",
    "    arcpy.Resample_management(resampling_input, resampling_output, resampling_pixel_size, resampling_calc)"
   ]
  },
  {
   "cell_type": "markdown",
   "id": "1bf609e4",
   "metadata": {},
   "source": [
    "## Compose multi band raster"
   ]
  },
  {
   "cell_type": "code",
   "execution_count": null,
   "id": "ae79bc9b",
   "metadata": {},
   "outputs": [],
   "source": [
    "# 1) Compose multi types of single band raster datasets to a TIFF format raster dataset\n",
    "arcpy.CompositeBands_management(b2_10m+\";\"+b3_10m+\";\"+b4_10m+\";\"+b8_10m+\";\"+b11_20m, compbands_tif)"
   ]
  },
  {
   "cell_type": "markdown",
   "id": "9ccf0f8d",
   "metadata": {},
   "source": [
    "## Check metadata"
   ]
  },
  {
   "cell_type": "code",
   "execution_count": null,
   "id": "1c1d9c0a",
   "metadata": {},
   "outputs": [],
   "source": [
    "# open raster tif\n",
    "ds = gdal.Open(eDirname + \"\\\\\" + compbands_tif)\n",
    "array = ds.GetRasterBand(1).ReadAsArray()"
   ]
  },
  {
   "cell_type": "code",
   "execution_count": null,
   "id": "69d2c211",
   "metadata": {},
   "outputs": [],
   "source": [
    "# 2) check metadata\n",
    "print(ds.GetGeoTransform())\n",
    "print(ds.GetProjection())"
   ]
  },
  {
   "cell_type": "markdown",
   "id": "5054d263",
   "metadata": {},
   "source": [
    "## Reprojection"
   ]
  },
  {
   "cell_type": "code",
   "execution_count": null,
   "id": "6e002a18",
   "metadata": {},
   "outputs": [],
   "source": [
    "if EPSG_projection != \"none\":\n",
    "    input_raster = eDirname + \"\\\\\" + compbands_tif\n",
    "    raster_output = eDirname + \"\\\\\" + \"reproj_\"+compbands_tif\n",
    "    EPSG_projection = EPSG_projection\n",
    "\n",
    "    raster_reprojection(raster_input, raster_output, EPSG_projection)"
   ]
  },
  {
   "cell_type": "markdown",
   "id": "5fa1b7a7",
   "metadata": {},
   "source": [
    "## Clip image"
   ]
  },
  {
   "cell_type": "code",
   "execution_count": null,
   "id": "6fb5da9d",
   "metadata": {},
   "outputs": [],
   "source": [
    "if clip_allow == \"TRUE\":\n",
    "    # Convert geojson to shp\n",
    "    arcpy.conversion.JSONToFeatures(iDirname +\"\\\\\"+clip_json, os.path.join(eDirname, clip_shp))\n",
    "    print(\"json converted to shp\")\n",
    "    \n",
    "    #variables\n",
    "    inRaster = eDirname + \"\\\\\" + compbands_tif\n",
    "    inMaskData = eDirname + \"\\\\\" +clip_shp\n",
    "    extraction_area = \"INSIDE\"\n",
    "    out_feature_class = eDirname + \"\\\\\" +\"clip_\"+compbands_tif\n",
    "    #Call function\n",
    "    raster_clip(inRaster, inMaskData, extraction_area, out_feature_class)\n",
    "\n"
   ]
  },
  {
   "cell_type": "markdown",
   "id": "4b1fb65e",
   "metadata": {},
   "source": [
    "## Normalizing of DN to surface reflectance"
   ]
  },
  {
   "cell_type": "code",
   "execution_count": null,
   "id": "6689b5d8",
   "metadata": {},
   "outputs": [],
   "source": [
    "if sr_allow == \"TRUE\":\n",
    "    surface_reflectance(sr_input, sr_output)"
   ]
  },
  {
   "cell_type": "code",
   "execution_count": null,
   "id": "2561bec8",
   "metadata": {},
   "outputs": [],
   "source": [
    "print(\"FINISHED ANALYSIS\")"
   ]
  }
 ],
 "metadata": {
  "kernelspec": {
   "display_name": "Python 3",
   "language": "python",
   "name": "python3"
  },
  "language_info": {
   "codemirror_mode": {
    "name": "ipython",
    "version": 3
   },
   "file_extension": ".py",
   "mimetype": "text/x-python",
   "name": "python",
   "nbconvert_exporter": "python",
   "pygments_lexer": "ipython3",
   "version": "3.9.11"
  }
 },
 "nbformat": 4,
 "nbformat_minor": 5
}
